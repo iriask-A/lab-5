{
 "cells": [
  {
   "cell_type": "markdown",
   "metadata": {},
   "source": [
    "Python RegEx"
   ]
  },
  {
   "cell_type": "code",
   "execution_count": 86,
   "metadata": {},
   "outputs": [
    {
     "name": "stdout",
     "output_type": "stream",
     "text": [
      "True\n",
      "True\n",
      "True\n",
      "True\n",
      "False\n",
      "False\n"
     ]
    }
   ],
   "source": [
    "#1\n",
    "import re\n",
    "def match(s):\n",
    "    return bool(re.fullmatch(r\"ab*\", s))\n",
    "txt = [\"a\", \"ab\", \"abb\", \"abbb\", \"b\", \"abc\"]\n",
    "for s in txt:\n",
    "    print(match(s))\n"
   ]
  },
  {
   "cell_type": "code",
   "execution_count": 80,
   "metadata": {},
   "outputs": [
    {
     "name": "stdout",
     "output_type": "stream",
     "text": [
      "False\n",
      "False\n",
      "True\n",
      "False\n",
      "False\n",
      "False\n"
     ]
    }
   ],
   "source": [
    "#2\n",
    "import re\n",
    "def match(s):\n",
    "    return bool(re.fullmatch(r'ab{2,3}', s))\n",
    "txt = [\"ab\", \"abbc\", \"abbb\", \"abbbb\", \"a\", \"abc\"]\n",
    "for s in txt:\n",
    "    print(match(s))\n"
   ]
  },
  {
   "cell_type": "code",
   "execution_count": 89,
   "metadata": {},
   "outputs": [
    {
     "name": "stdout",
     "output_type": "stream",
     "text": [
      "<re.Match object; span=(5, 11), match='place_'>\n",
      "True\n",
      "None\n",
      "False\n",
      "<re.Match object; span=(0, 2), match='a_'>\n",
      "True\n"
     ]
    }
   ],
   "source": [
    "#3\n",
    "import re\n",
    "def match(x):\n",
    "    print(re.search(\"[A-z]+[_]\",x))\n",
    "    return bool(re.search(\"[A-z]+[_]\",x))\n",
    "x=[\"this place_is beautiful\",\"this place\",\"a_b\"]\n",
    "for s in x:\n",
    "    print(match(s))"
   ]
  },
  {
   "cell_type": "code",
   "execution_count": 95,
   "metadata": {},
   "outputs": [
    {
     "name": "stdout",
     "output_type": "stream",
     "text": [
      "<re.Match object; span=(5, 7), match='Pl'>\n",
      "Yes\n"
     ]
    }
   ],
   "source": [
    "#4\n",
    "import re\n",
    "def match(x):\n",
    "    if re.search(\"[A-Z]*[a-z]\",x):\n",
    "        print(re.search(\"[A-Z]+[a-z]\",x))\n",
    "        return True\n",
    "    else:\n",
    "        return False\n",
    "x=\"this Place is beautiful\"\n",
    "if match(x):\n",
    "    print(\"Yes\")\n",
    "else:\n",
    "    print(\"No\")"
   ]
  },
  {
   "cell_type": "code",
   "execution_count": 35,
   "metadata": {},
   "outputs": [
    {
     "name": "stdout",
     "output_type": "stream",
     "text": [
      "<re.Match object; span=(0, 16), match='an apple is in b'>\n",
      "Yes\n"
     ]
    }
   ],
   "source": [
    "#5\n",
    "import re\n",
    "def match(x):\n",
    "    if re.search(\"^a.*b$\",x):\n",
    "        print(re.search(\"^a.*b$\",x))\n",
    "        return True\n",
    "    else:\n",
    "        return False\n",
    "x=\"an apple is in b\"\n",
    "if match(x):\n",
    "    print(\"Yes\")\n",
    "else:\n",
    "    print(\"No\")"
   ]
  },
  {
   "cell_type": "code",
   "execution_count": 45,
   "metadata": {},
   "outputs": [
    {
     "name": "stdout",
     "output_type": "stream",
     "text": [
      "an.apple is,in b\n",
      "an:apple:is:in:b\n"
     ]
    }
   ],
   "source": [
    "#6\n",
    "import re\n",
    "x=\"an.apple is,in b\"\n",
    "y=re.sub(\"[ .,]\",\":\",x)\n",
    "print(x)\n",
    "print(y)"
   ]
  },
  {
   "cell_type": "code",
   "execution_count": 60,
   "metadata": {},
   "outputs": [
    {
     "name": "stdout",
     "output_type": "stream",
     "text": [
      "'an_apple_is_tasty': anAppleIsTasty\n"
     ]
    }
   ],
   "source": [
    "#7\n",
    "import re\n",
    "def snake_to_camel(snake):\n",
    "    x = snake.split('_')\n",
    "    return x[0] + ''.join(x.title() for x in x[1:])\n",
    "snake = \"an_apple_is_tasty\"\n",
    "print(f\"'{snake}': {snake_to_camel(snake)}\")\n"
   ]
  },
  {
   "cell_type": "code",
   "execution_count": 69,
   "metadata": {},
   "outputs": [
    {
     "name": "stdout",
     "output_type": "stream",
     "text": [
      "['', 'An ', 'Apple is ', 'Tasty and ', 'Good']\n"
     ]
    }
   ],
   "source": [
    "#8\n",
    "import re\n",
    "s = \"An Apple is Tasty and Good\"\n",
    "result = re.split(r\"(?=[A-Z])\", s)\n",
    "print(result)"
   ]
  },
  {
   "cell_type": "code",
   "execution_count": 72,
   "metadata": {},
   "outputs": [
    {
     "name": "stdout",
     "output_type": "stream",
     "text": [
      "An Apple Is Tasty And Good\n"
     ]
    }
   ],
   "source": [
    "#9\n",
    "import re\n",
    "s = \"AnAppleIsTastyAndGood\"\n",
    "print(re.sub(r\"([A-Z])\", r\" \\1\", s).strip())"
   ]
  },
  {
   "cell_type": "code",
   "execution_count": 74,
   "metadata": {},
   "outputs": [
    {
     "name": "stdout",
     "output_type": "stream",
     "text": [
      "an_apple_is_tasty_and_good\n"
     ]
    }
   ],
   "source": [
    "#10\n",
    "import re\n",
    "s = \"AnAppleIsTastyAndGood\"\n",
    "print(re.sub(r'([a-z])([A-Z])', r'\\1_\\2', s).lower())\n",
    "\n"
   ]
  }
 ],
 "metadata": {
  "kernelspec": {
   "display_name": "Python 3",
   "language": "python",
   "name": "python3"
  },
  "language_info": {
   "codemirror_mode": {
    "name": "ipython",
    "version": 3
   },
   "file_extension": ".py",
   "mimetype": "text/x-python",
   "name": "python",
   "nbconvert_exporter": "python",
   "pygments_lexer": "ipython3",
   "version": "3.13.1"
  }
 },
 "nbformat": 4,
 "nbformat_minor": 2
}
