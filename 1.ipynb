{
 "cells": [
  {
   "cell_type": "markdown",
   "metadata": {},
   "source": [
    "Python RegEx"
   ]
  },
  {
   "cell_type": "code",
   "execution_count": 20,
   "metadata": {},
   "outputs": [
    {
     "name": "stdout",
     "output_type": "stream",
     "text": [
      "Yes\n"
     ]
    }
   ],
   "source": [
    "#1\n",
    "import re\n",
    "def match(x):\n",
    "    if re.search(\"a.*b\",x):\n",
    "        return True\n",
    "    else:\n",
    "        return False\n",
    "x=\" is asdsvb\"\n",
    "if match(x):\n",
    "    print(\"Yes\")\n",
    "else:\n",
    "    print(\"No\")"
   ]
  },
  {
   "cell_type": "code",
   "execution_count": 40,
   "metadata": {},
   "outputs": [
    {
     "name": "stdout",
     "output_type": "stream",
     "text": [
      "No\n"
     ]
    }
   ],
   "source": [
    "import re\n",
    "def match(x):\n",
    "    if re.search(\"ab{2,3}\",x):\n",
    "        return True\n",
    "    else:\n",
    "        return False\n",
    "x=\" is asdbvb\"\n",
    "if match(x):\n",
    "    print(\"Yes\")\n",
    "else:\n",
    "    print(\"No\")"
   ]
  },
  {
   "cell_type": "code",
   "execution_count": 46,
   "metadata": {},
   "outputs": [
    {
     "name": "stdout",
     "output_type": "stream",
     "text": [
      "<re.Match object; span=(5, 11), match='place_'>\n",
      "Yes\n"
     ]
    }
   ],
   "source": [
    "#3\n",
    "import re\n",
    "def match(x):\n",
    "    if re.search(\"[A-z]+[_]\",x):\n",
    "        print(re.search(\"[A-z]+[_]\",x))\n",
    "        return True\n",
    "    else:\n",
    "        return False\n",
    "x=\"this place_is beautiful\"\n",
    "if match(x):\n",
    "    print(\"Yes\")\n",
    "else:\n",
    "    print(\"No\")"
   ]
  },
  {
   "cell_type": "code",
   "execution_count": 27,
   "metadata": {},
   "outputs": [
    {
     "name": "stdout",
     "output_type": "stream",
     "text": [
      "<re.Match object; span=(5, 7), match='Pl'>\n",
      "Yes\n"
     ]
    }
   ],
   "source": [
    "#4\n",
    "import re\n",
    "def match(x):\n",
    "    if re.search(\"[A-Z]*[a-z]\",x):\n",
    "        print(re.search(\"[A-Z]+[a-z]\",x))\n",
    "        return True\n",
    "    else:\n",
    "        return False\n",
    "x=\"this Place is beautiful\"\n",
    "if match(x):\n",
    "    print(\"Yes\")\n",
    "else:\n",
    "    print(\"No\")"
   ]
  },
  {
   "cell_type": "code",
   "execution_count": 35,
   "metadata": {},
   "outputs": [
    {
     "name": "stdout",
     "output_type": "stream",
     "text": [
      "<re.Match object; span=(0, 16), match='an apple is in b'>\n",
      "Yes\n"
     ]
    }
   ],
   "source": [
    "#5\n",
    "import re\n",
    "def match(x):\n",
    "    if re.search(\"^a.*b$\",x):\n",
    "        print(re.search(\"^a.*b$\",x))\n",
    "        return True\n",
    "    else:\n",
    "        return False\n",
    "x=\"an apple is in b\"\n",
    "if match(x):\n",
    "    print(\"Yes\")\n",
    "else:\n",
    "    print(\"No\")"
   ]
  },
  {
   "cell_type": "code",
   "execution_count": 45,
   "metadata": {},
   "outputs": [
    {
     "name": "stdout",
     "output_type": "stream",
     "text": [
      "an.apple is,in b\n",
      "an:apple:is:in:b\n"
     ]
    }
   ],
   "source": [
    "#6\n",
    "import re\n",
    "x=\"an.apple is,in b\"\n",
    "y=re.sub(\"[ .,]\",\":\",x)\n",
    "print(x)\n",
    "print(y)"
   ]
  },
  {
   "cell_type": "code",
   "execution_count": 50,
   "metadata": {},
   "outputs": [
    {
     "name": "stdout",
     "output_type": "stream",
     "text": [
      "an_apple_is_in_b\n",
      "anappleisinb\n"
     ]
    }
   ],
   "source": [
    "#7\n",
    "import re\n",
    "x=\"an_apple_is_in_b\"\n",
    "y=re.sub(\"[_]\",\"\",x)\n",
    "print(x)\n",
    "print(y) "
   ]
  }
 ],
 "metadata": {
  "kernelspec": {
   "display_name": "Python 3",
   "language": "python",
   "name": "python3"
  },
  "language_info": {
   "codemirror_mode": {
    "name": "ipython",
    "version": 3
   },
   "file_extension": ".py",
   "mimetype": "text/x-python",
   "name": "python",
   "nbconvert_exporter": "python",
   "pygments_lexer": "ipython3",
   "version": "3.13.1"
  }
 },
 "nbformat": 4,
 "nbformat_minor": 2
}
